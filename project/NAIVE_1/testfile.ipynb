{
 "cells": [
  {
   "cell_type": "code",
   "execution_count": null,
   "metadata": {},
   "outputs": [
    {
     "ename": "",
     "evalue": "",
     "output_type": "error",
     "traceback": [
      "\u001b[1;31mFailed to start the Kernel 'base (Python 3.9.12)'. \n",
      "\u001b[1;31mView Jupyter <a href='command:jupyter.viewOutput'>log</a> for further details. Cannot find module './351.node.js'\n",
      "\u001b[1;31mRequire stack:\n",
      "\u001b[1;31m- /home/maggy/.vscode/extensions/ms-toolsai.jupyter-2023.8.1002501831-linux-x64/out/extension.node.js\n",
      "\u001b[1;31m- /usr/share/code/resources/app/out/vs/loader.js\n",
      "\u001b[1;31m- /usr/share/code/resources/app/out/bootstrap-amd.js\n",
      "\u001b[1;31m- /usr/share/code/resources/app/out/bootstrap-fork.js\n",
      "\u001b[1;31m-"
     ]
    }
   ],
   "source": [
    "import pandas as pd\n",
    "import numpy as np"
   ]
  },
  {
   "cell_type": "code",
   "execution_count": null,
   "metadata": {},
   "outputs": [],
   "source": [
    "knowledge_df = pd.read_csv(\"knowledge.csv\", header=None)\n",
    "knowledge_data = knowledge_df.to_numpy()\n",
    "knowledge = dict()\n",
    "knowledge[\"yolov5n\"] = [0, knowledge_data[0][1], knowledge_data[0][2], knowledge_data[0][3]]\n",
    "knowledge[\"yolov5s\"] = [1, knowledge_data[1][1], knowledge_data[1][2], knowledge_data[1][3]]\n",
    "knowledge[\"yolov5m\"] = [2, knowledge_data[2][1], knowledge_data[2][2], knowledge_data[2][3]]\n",
    "knowledge[\"yolov5l\"] = [3, knowledge_data[3][1], knowledge_data[3][2], knowledge_data[3][3]]\n",
    "\n",
    "\n",
    "f = open(\"knowledge.csv\", \"w\")\n",
    "writer = csv.writer(f)\n",
    "writer.writerow(knowledge[\"yolov5n\"])\n",
    "writer.writerow(knowledge[\"yolov5s\"])\n",
    "writer.writerow(knowledge[\"yolov5m\"])\n",
    "writer.writerow(knowledge[\"yolov5l\"])\n",
    "f.close()"
   ]
  },
  {
   "cell_type": "code",
   "execution_count": null,
   "metadata": {},
   "outputs": [],
   "source": []
  }
 ],
 "metadata": {
  "kernelspec": {
   "display_name": "base",
   "language": "python",
   "name": "python3"
  },
  "language_info": {
   "name": "python",
   "version": "3.9.12"
  },
  "orig_nbformat": 4
 },
 "nbformat": 4,
 "nbformat_minor": 2
}
